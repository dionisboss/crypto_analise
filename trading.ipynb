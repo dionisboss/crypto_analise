{
 "cells": [
  {
   "cell_type": "code",
   "execution_count": 1,
   "metadata": {},
   "outputs": [],
   "source": [
    "import pandas as pd\n",
    "# from ta import add_all_ta_features\n",
    "# from ta.utils import dropna"
   ]
  },
  {
   "cell_type": "code",
   "execution_count": 2,
   "metadata": {},
   "outputs": [],
   "source": [
    "import pandas as pd\n",
    "# import pandas_ta as ta"
   ]
  },
  {
   "cell_type": "code",
   "execution_count": 50,
   "metadata": {},
   "outputs": [],
   "source": [
    "import os"
   ]
  },
  {
   "cell_type": "code",
   "execution_count": 44,
   "metadata": {},
   "outputs": [],
   "source": [
    "from get_data_from_binance.get_current_data import price_name_now, price_name_jun"
   ]
  },
  {
   "cell_type": "code",
   "execution_count": 3,
   "metadata": {},
   "outputs": [],
   "source": [
    "pd.set_option('display.max_rows', None)"
   ]
  },
  {
   "cell_type": "code",
   "execution_count": 4,
   "metadata": {},
   "outputs": [],
   "source": [
    "# Create a DataFrame so 'ta' can be used.\n",
    "df = pd.DataFrame()\n",
    "\n",
    "# Help about this, 'ta', extension\n",
    "#help(df.ta)\n",
    "\n",
    "# List of all indicators\n",
    "#df.ta.indicators()\n",
    "\n",
    "# Help about the log_return indicator\n",
    "#help(ta.log_return)"
   ]
  },
  {
   "cell_type": "code",
   "execution_count": 6,
   "metadata": {},
   "outputs": [],
   "source": [
    "df = pd.read_json('datasets_raw/17.01.2021.json')"
   ]
  },
  {
   "cell_type": "code",
   "execution_count": 7,
   "metadata": {},
   "outputs": [
    {
     "data": {
      "text/html": [
       "<div>\n",
       "<style scoped>\n",
       "    .dataframe tbody tr th:only-of-type {\n",
       "        vertical-align: middle;\n",
       "    }\n",
       "\n",
       "    .dataframe tbody tr th {\n",
       "        vertical-align: top;\n",
       "    }\n",
       "\n",
       "    .dataframe thead th {\n",
       "        text-align: right;\n",
       "    }\n",
       "</style>\n",
       "<table border=\"1\" class=\"dataframe\">\n",
       "  <thead>\n",
       "    <tr style=\"text-align: right;\">\n",
       "      <th></th>\n",
       "      <th>symbol</th>\n",
       "      <th>price2021-01-17</th>\n",
       "      <th>price2020-06-01</th>\n",
       "      <th>price_change</th>\n",
       "      <th>compare_to_btc</th>\n",
       "    </tr>\n",
       "  </thead>\n",
       "  <tbody>\n",
       "    <tr>\n",
       "      <th>1</th>\n",
       "      <td>ETHUSDT</td>\n",
       "      <td>1209.05000</td>\n",
       "      <td>253.80000</td>\n",
       "      <td>376.379039</td>\n",
       "      <td>35.98</td>\n",
       "    </tr>\n",
       "    <tr>\n",
       "      <th>2</th>\n",
       "      <td>BNBUSDT</td>\n",
       "      <td>41.90970</td>\n",
       "      <td>18.20000</td>\n",
       "      <td>130.273077</td>\n",
       "      <td>-84.96</td>\n",
       "    </tr>\n",
       "    <tr>\n",
       "      <th>4</th>\n",
       "      <td>NEOUSDT</td>\n",
       "      <td>22.89900</td>\n",
       "      <td>13.20000</td>\n",
       "      <td>73.477273</td>\n",
       "      <td>-227.94</td>\n",
       "    </tr>\n",
       "    <tr>\n",
       "      <th>5</th>\n",
       "      <td>LTCUSDT</td>\n",
       "      <td>141.20000</td>\n",
       "      <td>49.96000</td>\n",
       "      <td>182.626101</td>\n",
       "      <td>-31.94</td>\n",
       "    </tr>\n",
       "    <tr>\n",
       "      <th>6</th>\n",
       "      <td>QTUMUSDT</td>\n",
       "      <td>2.97000</td>\n",
       "      <td>1.92400</td>\n",
       "      <td>54.365904</td>\n",
       "      <td>-343.22</td>\n",
       "    </tr>\n",
       "    <tr>\n",
       "      <th>7</th>\n",
       "      <td>ADAUSDT</td>\n",
       "      <td>0.36565</td>\n",
       "      <td>0.09039</td>\n",
       "      <td>304.524837</td>\n",
       "      <td>20.87</td>\n",
       "    </tr>\n",
       "    <tr>\n",
       "      <th>8</th>\n",
       "      <td>XRPUSDT</td>\n",
       "      <td>0.27344</td>\n",
       "      <td>0.21470</td>\n",
       "      <td>27.359106</td>\n",
       "      <td>-780.73</td>\n",
       "    </tr>\n",
       "    <tr>\n",
       "      <th>9</th>\n",
       "      <td>EOSUSDT</td>\n",
       "      <td>2.72120</td>\n",
       "      <td>2.89390</td>\n",
       "      <td>-5.967725</td>\n",
       "      <td>4137.70</td>\n",
       "    </tr>\n",
       "    <tr>\n",
       "      <th>11</th>\n",
       "      <td>IOTAUSDT</td>\n",
       "      <td>0.41200</td>\n",
       "      <td>0.25850</td>\n",
       "      <td>59.381044</td>\n",
       "      <td>-305.78</td>\n",
       "    </tr>\n",
       "    <tr>\n",
       "      <th>12</th>\n",
       "      <td>XLMUSDT</td>\n",
       "      <td>0.29750</td>\n",
       "      <td>0.08631</td>\n",
       "      <td>244.687753</td>\n",
       "      <td>1.52</td>\n",
       "    </tr>\n",
       "  </tbody>\n",
       "</table>\n",
       "</div>"
      ],
      "text/plain": [
       "      symbol  price2021-01-17  price2020-06-01  price_change  compare_to_btc\n",
       "1    ETHUSDT       1209.05000        253.80000    376.379039           35.98\n",
       "2    BNBUSDT         41.90970         18.20000    130.273077          -84.96\n",
       "4    NEOUSDT         22.89900         13.20000     73.477273         -227.94\n",
       "5    LTCUSDT        141.20000         49.96000    182.626101          -31.94\n",
       "6   QTUMUSDT          2.97000          1.92400     54.365904         -343.22\n",
       "7    ADAUSDT          0.36565          0.09039    304.524837           20.87\n",
       "8    XRPUSDT          0.27344          0.21470     27.359106         -780.73\n",
       "9    EOSUSDT          2.72120          2.89390     -5.967725         4137.70\n",
       "11  IOTAUSDT          0.41200          0.25850     59.381044         -305.78\n",
       "12   XLMUSDT          0.29750          0.08631    244.687753            1.52"
      ]
     },
     "execution_count": 7,
     "metadata": {},
     "output_type": "execute_result"
    }
   ],
   "source": [
    "df.head(10)"
   ]
  },
  {
   "cell_type": "code",
   "execution_count": 8,
   "metadata": {},
   "outputs": [
    {
     "name": "stdout",
     "output_type": "stream",
     "text": [
      "Dataframe shape is:  (236, 5)\n"
     ]
    }
   ],
   "source": [
    "print('Dataframe shape is: ', df.shape)"
   ]
  },
  {
   "cell_type": "code",
   "execution_count": 9,
   "metadata": {},
   "outputs": [
    {
     "data": {
      "text/plain": [
       "Index(['symbol', 'price2021-01-17', 'price2020-06-01', 'price_change',\n",
       "       'compare_to_btc'],\n",
       "      dtype='object')"
      ]
     },
     "execution_count": 9,
     "metadata": {},
     "output_type": "execute_result"
    }
   ],
   "source": [
    "df.columns"
   ]
  },
  {
   "cell_type": "code",
   "execution_count": 10,
   "metadata": {},
   "outputs": [],
   "source": [
    "#df.info"
   ]
  },
  {
   "cell_type": "code",
   "execution_count": 11,
   "metadata": {},
   "outputs": [
    {
     "data": {
      "text/html": [
       "<div>\n",
       "<style scoped>\n",
       "    .dataframe tbody tr th:only-of-type {\n",
       "        vertical-align: middle;\n",
       "    }\n",
       "\n",
       "    .dataframe tbody tr th {\n",
       "        vertical-align: top;\n",
       "    }\n",
       "\n",
       "    .dataframe thead th {\n",
       "        text-align: right;\n",
       "    }\n",
       "</style>\n",
       "<table border=\"1\" class=\"dataframe\">\n",
       "  <thead>\n",
       "    <tr style=\"text-align: right;\">\n",
       "      <th></th>\n",
       "      <th>price2021-01-17</th>\n",
       "      <th>price2020-06-01</th>\n",
       "      <th>price_change</th>\n",
       "      <th>compare_to_btc</th>\n",
       "    </tr>\n",
       "  </thead>\n",
       "  <tbody>\n",
       "    <tr>\n",
       "      <th>count</th>\n",
       "      <td>236.000000</td>\n",
       "      <td>236.000000</td>\n",
       "      <td>236.000000</td>\n",
       "      <td>236.000000</td>\n",
       "    </tr>\n",
       "    <tr>\n",
       "      <th>mean</th>\n",
       "      <td>181.640929</td>\n",
       "      <td>102.512904</td>\n",
       "      <td>44.229550</td>\n",
       "      <td>3689.607288</td>\n",
       "    </tr>\n",
       "    <tr>\n",
       "      <th>std</th>\n",
       "      <td>2201.425747</td>\n",
       "      <td>807.218797</td>\n",
       "      <td>150.650127</td>\n",
       "      <td>25112.996954</td>\n",
       "    </tr>\n",
       "    <tr>\n",
       "      <th>min</th>\n",
       "      <td>0.000089</td>\n",
       "      <td>0.000092</td>\n",
       "      <td>-99.958865</td>\n",
       "      <td>-12269.210000</td>\n",
       "    </tr>\n",
       "    <tr>\n",
       "      <th>25%</th>\n",
       "      <td>0.048008</td>\n",
       "      <td>0.082483</td>\n",
       "      <td>-56.299908</td>\n",
       "      <td>-144.277500</td>\n",
       "    </tr>\n",
       "    <tr>\n",
       "      <th>50%</th>\n",
       "      <td>0.526750</td>\n",
       "      <td>1.077650</td>\n",
       "      <td>-0.319520</td>\n",
       "      <td>341.535000</td>\n",
       "    </tr>\n",
       "    <tr>\n",
       "      <th>75%</th>\n",
       "      <td>5.287000</td>\n",
       "      <td>11.167750</td>\n",
       "      <td>89.310740</td>\n",
       "      <td>560.777500</td>\n",
       "    </tr>\n",
       "    <tr>\n",
       "      <th>max</th>\n",
       "      <td>33695.690000</td>\n",
       "      <td>9865.000000</td>\n",
       "      <td>853.017578</td>\n",
       "      <td>254953.850000</td>\n",
       "    </tr>\n",
       "  </tbody>\n",
       "</table>\n",
       "</div>"
      ],
      "text/plain": [
       "       price2021-01-17  price2020-06-01  price_change  compare_to_btc\n",
       "count       236.000000       236.000000    236.000000      236.000000\n",
       "mean        181.640929       102.512904     44.229550     3689.607288\n",
       "std        2201.425747       807.218797    150.650127    25112.996954\n",
       "min           0.000089         0.000092    -99.958865   -12269.210000\n",
       "25%           0.048008         0.082483    -56.299908     -144.277500\n",
       "50%           0.526750         1.077650     -0.319520      341.535000\n",
       "75%           5.287000        11.167750     89.310740      560.777500\n",
       "max       33695.690000      9865.000000    853.017578   254953.850000"
      ]
     },
     "execution_count": 11,
     "metadata": {},
     "output_type": "execute_result"
    }
   ],
   "source": [
    "df.describe()"
   ]
  },
  {
   "cell_type": "code",
   "execution_count": 12,
   "metadata": {},
   "outputs": [
    {
     "data": {
      "text/plain": [
       "22.899"
      ]
     },
     "execution_count": 12,
     "metadata": {},
     "output_type": "execute_result"
    }
   ],
   "source": [
    "df.loc[4, 'price2021-01-17']"
   ]
  },
  {
   "cell_type": "code",
   "execution_count": 13,
   "metadata": {},
   "outputs": [],
   "source": [
    "df.reset_index(inplace = True)"
   ]
  },
  {
   "cell_type": "code",
   "execution_count": 14,
   "metadata": {},
   "outputs": [
    {
     "data": {
      "text/html": [
       "<div>\n",
       "<style scoped>\n",
       "    .dataframe tbody tr th:only-of-type {\n",
       "        vertical-align: middle;\n",
       "    }\n",
       "\n",
       "    .dataframe tbody tr th {\n",
       "        vertical-align: top;\n",
       "    }\n",
       "\n",
       "    .dataframe thead th {\n",
       "        text-align: right;\n",
       "    }\n",
       "</style>\n",
       "<table border=\"1\" class=\"dataframe\">\n",
       "  <thead>\n",
       "    <tr style=\"text-align: right;\">\n",
       "      <th></th>\n",
       "      <th>symbol</th>\n",
       "      <th>price2021-01-17</th>\n",
       "      <th>price2020-06-01</th>\n",
       "      <th>price_change</th>\n",
       "      <th>compare_to_btc</th>\n",
       "    </tr>\n",
       "  </thead>\n",
       "  <tbody>\n",
       "    <tr>\n",
       "      <th>0</th>\n",
       "      <td>ETHUSDT</td>\n",
       "      <td>1209.05000</td>\n",
       "      <td>253.80000</td>\n",
       "      <td>376.379039</td>\n",
       "      <td>35.98</td>\n",
       "    </tr>\n",
       "    <tr>\n",
       "      <th>1</th>\n",
       "      <td>BNBUSDT</td>\n",
       "      <td>41.90970</td>\n",
       "      <td>18.20000</td>\n",
       "      <td>130.273077</td>\n",
       "      <td>-84.96</td>\n",
       "    </tr>\n",
       "    <tr>\n",
       "      <th>2</th>\n",
       "      <td>NEOUSDT</td>\n",
       "      <td>22.89900</td>\n",
       "      <td>13.20000</td>\n",
       "      <td>73.477273</td>\n",
       "      <td>-227.94</td>\n",
       "    </tr>\n",
       "    <tr>\n",
       "      <th>3</th>\n",
       "      <td>LTCUSDT</td>\n",
       "      <td>141.20000</td>\n",
       "      <td>49.96000</td>\n",
       "      <td>182.626101</td>\n",
       "      <td>-31.94</td>\n",
       "    </tr>\n",
       "    <tr>\n",
       "      <th>4</th>\n",
       "      <td>QTUMUSDT</td>\n",
       "      <td>2.97000</td>\n",
       "      <td>1.92400</td>\n",
       "      <td>54.365904</td>\n",
       "      <td>-343.22</td>\n",
       "    </tr>\n",
       "    <tr>\n",
       "      <th>5</th>\n",
       "      <td>ADAUSDT</td>\n",
       "      <td>0.36565</td>\n",
       "      <td>0.09039</td>\n",
       "      <td>304.524837</td>\n",
       "      <td>20.87</td>\n",
       "    </tr>\n",
       "    <tr>\n",
       "      <th>6</th>\n",
       "      <td>XRPUSDT</td>\n",
       "      <td>0.27344</td>\n",
       "      <td>0.21470</td>\n",
       "      <td>27.359106</td>\n",
       "      <td>-780.73</td>\n",
       "    </tr>\n",
       "    <tr>\n",
       "      <th>7</th>\n",
       "      <td>EOSUSDT</td>\n",
       "      <td>2.72120</td>\n",
       "      <td>2.89390</td>\n",
       "      <td>-5.967725</td>\n",
       "      <td>4137.70</td>\n",
       "    </tr>\n",
       "    <tr>\n",
       "      <th>8</th>\n",
       "      <td>IOTAUSDT</td>\n",
       "      <td>0.41200</td>\n",
       "      <td>0.25850</td>\n",
       "      <td>59.381044</td>\n",
       "      <td>-305.78</td>\n",
       "    </tr>\n",
       "    <tr>\n",
       "      <th>9</th>\n",
       "      <td>XLMUSDT</td>\n",
       "      <td>0.29750</td>\n",
       "      <td>0.08631</td>\n",
       "      <td>244.687753</td>\n",
       "      <td>1.52</td>\n",
       "    </tr>\n",
       "  </tbody>\n",
       "</table>\n",
       "</div>"
      ],
      "text/plain": [
       "     symbol  price2021-01-17  price2020-06-01  price_change  compare_to_btc\n",
       "0   ETHUSDT       1209.05000        253.80000    376.379039           35.98\n",
       "1   BNBUSDT         41.90970         18.20000    130.273077          -84.96\n",
       "2   NEOUSDT         22.89900         13.20000     73.477273         -227.94\n",
       "3   LTCUSDT        141.20000         49.96000    182.626101          -31.94\n",
       "4  QTUMUSDT          2.97000          1.92400     54.365904         -343.22\n",
       "5   ADAUSDT          0.36565          0.09039    304.524837           20.87\n",
       "6   XRPUSDT          0.27344          0.21470     27.359106         -780.73\n",
       "7   EOSUSDT          2.72120          2.89390     -5.967725         4137.70\n",
       "8  IOTAUSDT          0.41200          0.25850     59.381044         -305.78\n",
       "9   XLMUSDT          0.29750          0.08631    244.687753            1.52"
      ]
     },
     "execution_count": 14,
     "metadata": {},
     "output_type": "execute_result"
    }
   ],
   "source": [
    "df.drop('index', axis=1).head(10)"
   ]
  },
  {
   "cell_type": "code",
   "execution_count": 15,
   "metadata": {},
   "outputs": [],
   "source": [
    "pd.plotting.register_matplotlib_converters()\n",
    "import matplotlib.pyplot as plt\n",
    "%matplotlib inline\n",
    "import seaborn as sns"
   ]
  },
  {
   "cell_type": "code",
   "execution_count": 16,
   "metadata": {},
   "outputs": [
    {
     "data": {
      "text/plain": [
       "<AxesSubplot:xlabel='compare_to_btc', ylabel='price_change'>"
      ]
     },
     "execution_count": 16,
     "metadata": {},
     "output_type": "execute_result"
    },
    {
     "data": {
      "image/png": "[encoded data removed]",
      "text/plain": [
       "<Figure size 432x288 with 1 Axes>"
      ]
     },
     "metadata": {
      "needs_background": "light"
     },
     "output_type": "display_data"
    }
   ],
   "source": [
    "sns.scatterplot(y = df.price_change, x = df.compare_to_btc)"
   ]
  },
  {
   "cell_type": "code",
   "execution_count": 17,
   "metadata": {},
   "outputs": [
    {
     "data": {
      "text/html": [
       "<div>\n",
       "<style scoped>\n",
       "    .dataframe tbody tr th:only-of-type {\n",
       "        vertical-align: middle;\n",
       "    }\n",
       "\n",
       "    .dataframe tbody tr th {\n",
       "        vertical-align: top;\n",
       "    }\n",
       "\n",
       "    .dataframe thead th {\n",
       "        text-align: right;\n",
       "    }\n",
       "</style>\n",
       "<table border=\"1\" class=\"dataframe\">\n",
       "  <thead>\n",
       "    <tr style=\"text-align: right;\">\n",
       "      <th></th>\n",
       "      <th>index</th>\n",
       "      <th>symbol</th>\n",
       "      <th>price2021-01-17</th>\n",
       "      <th>price2020-06-01</th>\n",
       "      <th>price_change</th>\n",
       "      <th>compare_to_btc</th>\n",
       "    </tr>\n",
       "  </thead>\n",
       "  <tbody>\n",
       "    <tr>\n",
       "      <th>10</th>\n",
       "      <td>13</td>\n",
       "      <td>ONTUSDT</td>\n",
       "      <td>0.6340</td>\n",
       "      <td>0.6346</td>\n",
       "      <td>-0.094548</td>\n",
       "      <td>254953.85</td>\n",
       "    </tr>\n",
       "    <tr>\n",
       "      <th>16</th>\n",
       "      <td>20</td>\n",
       "      <td>PAXUSDT</td>\n",
       "      <td>1.0001</td>\n",
       "      <td>1.0013</td>\n",
       "      <td>-0.119844</td>\n",
       "      <td>201159.85</td>\n",
       "    </tr>\n",
       "    <tr>\n",
       "      <th>17</th>\n",
       "      <td>23</td>\n",
       "      <td>USDCUSDT</td>\n",
       "      <td>0.9999</td>\n",
       "      <td>1.0030</td>\n",
       "      <td>-0.309073</td>\n",
       "      <td>78061.76</td>\n",
       "    </tr>\n",
       "    <tr>\n",
       "      <th>21</th>\n",
       "      <td>27</td>\n",
       "      <td>USDSUSDT</td>\n",
       "      <td>0.9968</td>\n",
       "      <td>1.0001</td>\n",
       "      <td>-0.329967</td>\n",
       "      <td>73125.05</td>\n",
       "    </tr>\n",
       "    <tr>\n",
       "      <th>66</th>\n",
       "      <td>73</td>\n",
       "      <td>BUSDUSDT</td>\n",
       "      <td>1.0002</td>\n",
       "      <td>1.0017</td>\n",
       "      <td>-0.149745</td>\n",
       "      <td>161012.14</td>\n",
       "    </tr>\n",
       "    <tr>\n",
       "      <th>216</th>\n",
       "      <td>233</td>\n",
       "      <td>XEMUSDT</td>\n",
       "      <td>0.2166</td>\n",
       "      <td>0.2172</td>\n",
       "      <td>-0.276243</td>\n",
       "      <td>87327.00</td>\n",
       "    </tr>\n",
       "  </tbody>\n",
       "</table>\n",
       "</div>"
      ],
      "text/plain": [
       "     index    symbol  price2021-01-17  price2020-06-01  price_change  \\\n",
       "10      13   ONTUSDT           0.6340           0.6346     -0.094548   \n",
       "16      20   PAXUSDT           1.0001           1.0013     -0.119844   \n",
       "17      23  USDCUSDT           0.9999           1.0030     -0.309073   \n",
       "21      27  USDSUSDT           0.9968           1.0001     -0.329967   \n",
       "66      73  BUSDUSDT           1.0002           1.0017     -0.149745   \n",
       "216    233   XEMUSDT           0.2166           0.2172     -0.276243   \n",
       "\n",
       "     compare_to_btc  \n",
       "10        254953.85  \n",
       "16        201159.85  \n",
       "17         78061.76  \n",
       "21         73125.05  \n",
       "66        161012.14  \n",
       "216        87327.00  "
      ]
     },
     "execution_count": 17,
     "metadata": {},
     "output_type": "execute_result"
    }
   ],
   "source": [
    "df[df['compare_to_btc'] > 50000]"
   ]
  },
  {
   "cell_type": "code",
   "execution_count": 18,
   "metadata": {},
   "outputs": [],
   "source": [
    "df1 = df.loc[(df['price_change']>0) & (df['compare_to_btc']<50000)]"
   ]
  },
  {
   "cell_type": "code",
   "execution_count": 19,
   "metadata": {},
   "outputs": [
    {
     "data": {
      "text/plain": [
       "pandas.core.frame.DataFrame"
      ]
     },
     "execution_count": 19,
     "metadata": {},
     "output_type": "execute_result"
    }
   ],
   "source": [
    "type(df1)"
   ]
  },
  {
   "cell_type": "code",
   "execution_count": 20,
   "metadata": {},
   "outputs": [],
   "source": [
    "df1.reset_index(inplace=True)"
   ]
  },
  {
   "cell_type": "code",
   "execution_count": 21,
   "metadata": {},
   "outputs": [
    {
     "data": {
      "text/html": [
       "<div>\n",
       "<style scoped>\n",
       "    .dataframe tbody tr th:only-of-type {\n",
       "        vertical-align: middle;\n",
       "    }\n",
       "\n",
       "    .dataframe tbody tr th {\n",
       "        vertical-align: top;\n",
       "    }\n",
       "\n",
       "    .dataframe thead th {\n",
       "        text-align: right;\n",
       "    }\n",
       "</style>\n",
       "<table border=\"1\" class=\"dataframe\">\n",
       "  <thead>\n",
       "    <tr style=\"text-align: right;\">\n",
       "      <th></th>\n",
       "      <th>level_0</th>\n",
       "      <th>index</th>\n",
       "      <th>symbol</th>\n",
       "      <th>price2021-01-17</th>\n",
       "      <th>price2020-06-01</th>\n",
       "      <th>price_change</th>\n",
       "      <th>compare_to_btc</th>\n",
       "    </tr>\n",
       "  </thead>\n",
       "  <tbody>\n",
       "    <tr>\n",
       "      <th>0</th>\n",
       "      <td>0</td>\n",
       "      <td>1</td>\n",
       "      <td>ETHUSDT</td>\n",
       "      <td>1209.0500</td>\n",
       "      <td>253.800</td>\n",
       "      <td>376.379039</td>\n",
       "      <td>35.98</td>\n",
       "    </tr>\n",
       "    <tr>\n",
       "      <th>1</th>\n",
       "      <td>1</td>\n",
       "      <td>2</td>\n",
       "      <td>BNBUSDT</td>\n",
       "      <td>41.9097</td>\n",
       "      <td>18.200</td>\n",
       "      <td>130.273077</td>\n",
       "      <td>-84.96</td>\n",
       "    </tr>\n",
       "    <tr>\n",
       "      <th>2</th>\n",
       "      <td>2</td>\n",
       "      <td>4</td>\n",
       "      <td>NEOUSDT</td>\n",
       "      <td>22.8990</td>\n",
       "      <td>13.200</td>\n",
       "      <td>73.477273</td>\n",
       "      <td>-227.94</td>\n",
       "    </tr>\n",
       "    <tr>\n",
       "      <th>3</th>\n",
       "      <td>3</td>\n",
       "      <td>5</td>\n",
       "      <td>LTCUSDT</td>\n",
       "      <td>141.2000</td>\n",
       "      <td>49.960</td>\n",
       "      <td>182.626101</td>\n",
       "      <td>-31.94</td>\n",
       "    </tr>\n",
       "    <tr>\n",
       "      <th>4</th>\n",
       "      <td>4</td>\n",
       "      <td>6</td>\n",
       "      <td>QTUMUSDT</td>\n",
       "      <td>2.9700</td>\n",
       "      <td>1.924</td>\n",
       "      <td>54.365904</td>\n",
       "      <td>-343.22</td>\n",
       "    </tr>\n",
       "  </tbody>\n",
       "</table>\n",
       "</div>"
      ],
      "text/plain": [
       "   level_0  index    symbol  price2021-01-17  price2020-06-01  price_change  \\\n",
       "0        0      1   ETHUSDT        1209.0500          253.800    376.379039   \n",
       "1        1      2   BNBUSDT          41.9097           18.200    130.273077   \n",
       "2        2      4   NEOUSDT          22.8990           13.200     73.477273   \n",
       "3        3      5   LTCUSDT         141.2000           49.960    182.626101   \n",
       "4        4      6  QTUMUSDT           2.9700            1.924     54.365904   \n",
       "\n",
       "   compare_to_btc  \n",
       "0           35.98  \n",
       "1          -84.96  \n",
       "2         -227.94  \n",
       "3          -31.94  \n",
       "4         -343.22  "
      ]
     },
     "execution_count": 21,
     "metadata": {},
     "output_type": "execute_result"
    }
   ],
   "source": [
    "df1.head(5)"
   ]
  },
  {
   "cell_type": "code",
   "execution_count": 22,
   "metadata": {},
   "outputs": [
    {
     "name": "stderr",
     "output_type": "stream",
     "text": [
      "/home/uru/anaconda3/envs/trading/lib/python3.9/site-packages/pandas/core/frame.py:4305: SettingWithCopyWarning: \n",
      "A value is trying to be set on a copy of a slice from a DataFrame\n",
      "\n",
      "See the caveats in the documentation: https://pandas.pydata.org/pandas-docs/stable/user_guide/indexing.html#returning-a-view-versus-a-copy\n",
      "  return super().drop(\n"
     ]
    }
   ],
   "source": [
    "df1.drop(['level_0', 'index'], axis=1, inplace=True)"
   ]
  },
  {
   "cell_type": "code",
   "execution_count": 23,
   "metadata": {},
   "outputs": [
    {
     "data": {
      "text/plain": [
       "<AxesSubplot:xlabel='price_change', ylabel='price_change'>"
      ]
     },
     "execution_count": 23,
     "metadata": {},
     "output_type": "execute_result"
    },
    {
     "data": {
      "image/png": "[encoded data removed]",
      "text/plain": [
       "<Figure size 432x288 with 1 Axes>"
      ]
     },
     "metadata": {
      "needs_background": "light"
     },
     "output_type": "display_data"
    }
   ],
   "source": [
    "sns.scatterplot(y = df1.price_change, x = df1.price_change)"
   ]
  },
  {
   "cell_type": "code",
   "execution_count": 24,
   "metadata": {},
   "outputs": [],
   "source": [
    "dfu350 = df1.loc[df1['price_change']<350]"
   ]
  },
  {
   "cell_type": "code",
   "execution_count": 25,
   "metadata": {},
   "outputs": [],
   "source": [
    "dfa350 = df1.loc[df1['price_change']>350]"
   ]
  },
  {
   "cell_type": "markdown",
   "metadata": {},
   "source": [
    "## Currencies that increased less than 4.5 times"
   ]
  },
  {
   "cell_type": "code",
   "execution_count": 26,
   "metadata": {},
   "outputs": [
    {
     "ename": "KeyError",
     "evalue": "\"['level_0' 'index'] not found in axis\"",
     "output_type": "error",
     "traceback": [
      "\u001b[0;31m---------------------------------------------------------------------------\u001b[0m",
      "\u001b[0;31mKeyError\u001b[0m                                  Traceback (most recent call last)",
      "\u001b[0;32m<ipython-input-26-090c68ec36f1>\u001b[0m in \u001b[0;36m<module>\u001b[0;34m\u001b[0m\n\u001b[0;32m----> 1\u001b[0;31m \u001b[0mdfu350\u001b[0m \u001b[0;34m=\u001b[0m \u001b[0mdfu350\u001b[0m\u001b[0;34m.\u001b[0m\u001b[0mdrop\u001b[0m\u001b[0;34m(\u001b[0m\u001b[0;34m[\u001b[0m\u001b[0;34m'level_0'\u001b[0m\u001b[0;34m,\u001b[0m \u001b[0;34m'index'\u001b[0m\u001b[0;34m]\u001b[0m\u001b[0;34m,\u001b[0m \u001b[0maxis\u001b[0m\u001b[0;34m=\u001b[0m\u001b[0;36m1\u001b[0m\u001b[0;34m)\u001b[0m\u001b[0;34m\u001b[0m\u001b[0;34m\u001b[0m\u001b[0m\n\u001b[0m",
      "\u001b[0;32m~/anaconda3/envs/trading/lib/python3.9/site-packages/pandas/core/frame.py\u001b[0m in \u001b[0;36mdrop\u001b[0;34m(self, labels, axis, index, columns, level, inplace, errors)\u001b[0m\n\u001b[1;32m   4303\u001b[0m                 \u001b[0mweight\u001b[0m  \u001b[0;36m1.0\u001b[0m     \u001b[0;36m0.8\u001b[0m\u001b[0;34m\u001b[0m\u001b[0;34m\u001b[0m\u001b[0m\n\u001b[1;32m   4304\u001b[0m         \"\"\"\n\u001b[0;32m-> 4305\u001b[0;31m         return super().drop(\n\u001b[0m\u001b[1;32m   4306\u001b[0m             \u001b[0mlabels\u001b[0m\u001b[0;34m=\u001b[0m\u001b[0mlabels\u001b[0m\u001b[0;34m,\u001b[0m\u001b[0;34m\u001b[0m\u001b[0;34m\u001b[0m\u001b[0m\n\u001b[1;32m   4307\u001b[0m             \u001b[0maxis\u001b[0m\u001b[0;34m=\u001b[0m\u001b[0maxis\u001b[0m\u001b[0;34m,\u001b[0m\u001b[0;34m\u001b[0m\u001b[0;34m\u001b[0m\u001b[0m\n",
      "\u001b[0;32m~/anaconda3/envs/trading/lib/python3.9/site-packages/pandas/core/generic.py\u001b[0m in \u001b[0;36mdrop\u001b[0;34m(self, labels, axis, index, columns, level, inplace, errors)\u001b[0m\n\u001b[1;32m   4150\u001b[0m         \u001b[0;32mfor\u001b[0m \u001b[0maxis\u001b[0m\u001b[0;34m,\u001b[0m \u001b[0mlabels\u001b[0m \u001b[0;32min\u001b[0m \u001b[0maxes\u001b[0m\u001b[0;34m.\u001b[0m\u001b[0mitems\u001b[0m\u001b[0;34m(\u001b[0m\u001b[0;34m)\u001b[0m\u001b[0;34m:\u001b[0m\u001b[0;34m\u001b[0m\u001b[0;34m\u001b[0m\u001b[0m\n\u001b[1;32m   4151\u001b[0m             \u001b[0;32mif\u001b[0m \u001b[0mlabels\u001b[0m \u001b[0;32mis\u001b[0m \u001b[0;32mnot\u001b[0m \u001b[0;32mNone\u001b[0m\u001b[0;34m:\u001b[0m\u001b[0;34m\u001b[0m\u001b[0;34m\u001b[0m\u001b[0m\n\u001b[0;32m-> 4152\u001b[0;31m                 \u001b[0mobj\u001b[0m \u001b[0;34m=\u001b[0m \u001b[0mobj\u001b[0m\u001b[0;34m.\u001b[0m\u001b[0m_drop_axis\u001b[0m\u001b[0;34m(\u001b[0m\u001b[0mlabels\u001b[0m\u001b[0;34m,\u001b[0m \u001b[0maxis\u001b[0m\u001b[0;34m,\u001b[0m \u001b[0mlevel\u001b[0m\u001b[0;34m=\u001b[0m\u001b[0mlevel\u001b[0m\u001b[0;34m,\u001b[0m \u001b[0merrors\u001b[0m\u001b[0;34m=\u001b[0m\u001b[0merrors\u001b[0m\u001b[0;34m)\u001b[0m\u001b[0;34m\u001b[0m\u001b[0;34m\u001b[0m\u001b[0m\n\u001b[0m\u001b[1;32m   4153\u001b[0m \u001b[0;34m\u001b[0m\u001b[0m\n\u001b[1;32m   4154\u001b[0m         \u001b[0;32mif\u001b[0m \u001b[0minplace\u001b[0m\u001b[0;34m:\u001b[0m\u001b[0;34m\u001b[0m\u001b[0;34m\u001b[0m\u001b[0m\n",
      "\u001b[0;32m~/anaconda3/envs/trading/lib/python3.9/site-packages/pandas/core/generic.py\u001b[0m in \u001b[0;36m_drop_axis\u001b[0;34m(self, labels, axis, level, errors)\u001b[0m\n\u001b[1;32m   4185\u001b[0m                 \u001b[0mnew_axis\u001b[0m \u001b[0;34m=\u001b[0m \u001b[0maxis\u001b[0m\u001b[0;34m.\u001b[0m\u001b[0mdrop\u001b[0m\u001b[0;34m(\u001b[0m\u001b[0mlabels\u001b[0m\u001b[0;34m,\u001b[0m \u001b[0mlevel\u001b[0m\u001b[0;34m=\u001b[0m\u001b[0mlevel\u001b[0m\u001b[0;34m,\u001b[0m \u001b[0merrors\u001b[0m\u001b[0;34m=\u001b[0m\u001b[0merrors\u001b[0m\u001b[0;34m)\u001b[0m\u001b[0;34m\u001b[0m\u001b[0;34m\u001b[0m\u001b[0m\n\u001b[1;32m   4186\u001b[0m             \u001b[0;32melse\u001b[0m\u001b[0;34m:\u001b[0m\u001b[0;34m\u001b[0m\u001b[0;34m\u001b[0m\u001b[0m\n\u001b[0;32m-> 4187\u001b[0;31m                 \u001b[0mnew_axis\u001b[0m \u001b[0;34m=\u001b[0m \u001b[0maxis\u001b[0m\u001b[0;34m.\u001b[0m\u001b[0mdrop\u001b[0m\u001b[0;34m(\u001b[0m\u001b[0mlabels\u001b[0m\u001b[0;34m,\u001b[0m \u001b[0merrors\u001b[0m\u001b[0;34m=\u001b[0m\u001b[0merrors\u001b[0m\u001b[0;34m)\u001b[0m\u001b[0;34m\u001b[0m\u001b[0;34m\u001b[0m\u001b[0m\n\u001b[0m\u001b[1;32m   4188\u001b[0m             \u001b[0mresult\u001b[0m \u001b[0;34m=\u001b[0m \u001b[0mself\u001b[0m\u001b[0;34m.\u001b[0m\u001b[0mreindex\u001b[0m\u001b[0;34m(\u001b[0m\u001b[0;34m**\u001b[0m\u001b[0;34m{\u001b[0m\u001b[0maxis_name\u001b[0m\u001b[0;34m:\u001b[0m \u001b[0mnew_axis\u001b[0m\u001b[0;34m}\u001b[0m\u001b[0;34m)\u001b[0m\u001b[0;34m\u001b[0m\u001b[0;34m\u001b[0m\u001b[0m\n\u001b[1;32m   4189\u001b[0m \u001b[0;34m\u001b[0m\u001b[0m\n",
      "\u001b[0;32m~/anaconda3/envs/trading/lib/python3.9/site-packages/pandas/core/indexes/base.py\u001b[0m in \u001b[0;36mdrop\u001b[0;34m(self, labels, errors)\u001b[0m\n\u001b[1;32m   5589\u001b[0m         \u001b[0;32mif\u001b[0m \u001b[0mmask\u001b[0m\u001b[0;34m.\u001b[0m\u001b[0many\u001b[0m\u001b[0;34m(\u001b[0m\u001b[0;34m)\u001b[0m\u001b[0;34m:\u001b[0m\u001b[0;34m\u001b[0m\u001b[0;34m\u001b[0m\u001b[0m\n\u001b[1;32m   5590\u001b[0m             \u001b[0;32mif\u001b[0m \u001b[0merrors\u001b[0m \u001b[0;34m!=\u001b[0m \u001b[0;34m\"ignore\"\u001b[0m\u001b[0;34m:\u001b[0m\u001b[0;34m\u001b[0m\u001b[0;34m\u001b[0m\u001b[0m\n\u001b[0;32m-> 5591\u001b[0;31m                 \u001b[0;32mraise\u001b[0m \u001b[0mKeyError\u001b[0m\u001b[0;34m(\u001b[0m\u001b[0;34mf\"{labels[mask]} not found in axis\"\u001b[0m\u001b[0;34m)\u001b[0m\u001b[0;34m\u001b[0m\u001b[0;34m\u001b[0m\u001b[0m\n\u001b[0m\u001b[1;32m   5592\u001b[0m             \u001b[0mindexer\u001b[0m \u001b[0;34m=\u001b[0m \u001b[0mindexer\u001b[0m\u001b[0;34m[\u001b[0m\u001b[0;34m~\u001b[0m\u001b[0mmask\u001b[0m\u001b[0;34m]\u001b[0m\u001b[0;34m\u001b[0m\u001b[0;34m\u001b[0m\u001b[0m\n\u001b[1;32m   5593\u001b[0m         \u001b[0;32mreturn\u001b[0m \u001b[0mself\u001b[0m\u001b[0;34m.\u001b[0m\u001b[0mdelete\u001b[0m\u001b[0;34m(\u001b[0m\u001b[0mindexer\u001b[0m\u001b[0;34m)\u001b[0m\u001b[0;34m\u001b[0m\u001b[0;34m\u001b[0m\u001b[0m\n",
      "\u001b[0;31mKeyError\u001b[0m: \"['level_0' 'index'] not found in axis\""
     ]
    }
   ],
   "source": [
    "dfu350 = dfu350.drop(['level_0', 'index'], axis=1)"
   ]
  },
  {
   "cell_type": "code",
   "execution_count": 45,
   "metadata": {},
   "outputs": [],
   "source": [
    "dfu350.reset_index(inplace=True)\n"
   ]
  },
  {
   "cell_type": "code",
   "execution_count": 29,
   "metadata": {},
   "outputs": [
    {
     "data": {
      "text/html": [
       "<div>\n",
       "<style scoped>\n",
       "    .dataframe tbody tr th:only-of-type {\n",
       "        vertical-align: middle;\n",
       "    }\n",
       "\n",
       "    .dataframe tbody tr th {\n",
       "        vertical-align: top;\n",
       "    }\n",
       "\n",
       "    .dataframe thead th {\n",
       "        text-align: right;\n",
       "    }\n",
       "</style>\n",
       "<table border=\"1\" class=\"dataframe\">\n",
       "  <thead>\n",
       "    <tr style=\"text-align: right;\">\n",
       "      <th></th>\n",
       "      <th>index</th>\n",
       "      <th>price2021-01-17</th>\n",
       "      <th>price2020-06-01</th>\n",
       "      <th>price_change</th>\n",
       "      <th>compare_to_btc</th>\n",
       "    </tr>\n",
       "  </thead>\n",
       "  <tbody>\n",
       "    <tr>\n",
       "      <th>count</th>\n",
       "      <td>101.000000</td>\n",
       "      <td>101.000000</td>\n",
       "      <td>101.000000</td>\n",
       "      <td>101.000000</td>\n",
       "      <td>101.000000</td>\n",
       "    </tr>\n",
       "    <tr>\n",
       "      <th>mean</th>\n",
       "      <td>56.079208</td>\n",
       "      <td>33.229860</td>\n",
       "      <td>17.450818</td>\n",
       "      <td>108.324857</td>\n",
       "      <td>-1026.878317</td>\n",
       "    </tr>\n",
       "    <tr>\n",
       "      <th>std</th>\n",
       "      <td>33.242047</td>\n",
       "      <td>155.887670</td>\n",
       "      <td>88.512066</td>\n",
       "      <td>91.670143</td>\n",
       "      <td>2336.083908</td>\n",
       "    </tr>\n",
       "    <tr>\n",
       "      <th>min</th>\n",
       "      <td>1.000000</td>\n",
       "      <td>0.000300</td>\n",
       "      <td>0.000153</td>\n",
       "      <td>1.948052</td>\n",
       "      <td>-12269.210000</td>\n",
       "    </tr>\n",
       "    <tr>\n",
       "      <th>25%</th>\n",
       "      <td>27.000000</td>\n",
       "      <td>0.025942</td>\n",
       "      <td>0.015000</td>\n",
       "      <td>34.204386</td>\n",
       "      <td>-604.470000</td>\n",
       "    </tr>\n",
       "    <tr>\n",
       "      <th>50%</th>\n",
       "      <td>55.000000</td>\n",
       "      <td>0.425100</td>\n",
       "      <td>0.248000</td>\n",
       "      <td>77.788147</td>\n",
       "      <td>-209.760000</td>\n",
       "    </tr>\n",
       "    <tr>\n",
       "      <th>75%</th>\n",
       "      <td>86.000000</td>\n",
       "      <td>13.732200</td>\n",
       "      <td>5.060000</td>\n",
       "      <td>178.349482</td>\n",
       "      <td>-35.100000</td>\n",
       "    </tr>\n",
       "    <tr>\n",
       "      <th>max</th>\n",
       "      <td>112.000000</td>\n",
       "      <td>1477.330000</td>\n",
       "      <td>845.000000</td>\n",
       "      <td>347.677817</td>\n",
       "      <td>30.690000</td>\n",
       "    </tr>\n",
       "  </tbody>\n",
       "</table>\n",
       "</div>"
      ],
      "text/plain": [
       "            index  price2021-01-17  price2020-06-01  price_change  \\\n",
       "count  101.000000       101.000000       101.000000    101.000000   \n",
       "mean    56.079208        33.229860        17.450818    108.324857   \n",
       "std     33.242047       155.887670        88.512066     91.670143   \n",
       "min      1.000000         0.000300         0.000153      1.948052   \n",
       "25%     27.000000         0.025942         0.015000     34.204386   \n",
       "50%     55.000000         0.425100         0.248000     77.788147   \n",
       "75%     86.000000        13.732200         5.060000    178.349482   \n",
       "max    112.000000      1477.330000       845.000000    347.677817   \n",
       "\n",
       "       compare_to_btc  \n",
       "count      101.000000  \n",
       "mean     -1026.878317  \n",
       "std       2336.083908  \n",
       "min     -12269.210000  \n",
       "25%       -604.470000  \n",
       "50%       -209.760000  \n",
       "75%        -35.100000  \n",
       "max         30.690000  "
      ]
     },
     "execution_count": 29,
     "metadata": {},
     "output_type": "execute_result"
    }
   ],
   "source": [
    "dfu350.describe()"
   ]
  },
  {
   "cell_type": "code",
   "execution_count": 30,
   "metadata": {},
   "outputs": [],
   "source": [
    "dfu = dfu350[dfu350['symbol'].str.contains(\"UP\")]\n",
    "dfu\n",
    "indlist = [80, 85, 93, 96, 99, 100]"
   ]
  },
  {
   "cell_type": "code",
   "execution_count": 31,
   "metadata": {},
   "outputs": [],
   "source": [
    "dfuu = dfu350[~dfu350['index'].isin(indlist)]"
   ]
  },
  {
   "cell_type": "code",
   "execution_count": 46,
   "metadata": {},
   "outputs": [
    {
     "data": {
      "text/html": [
       "<div>\n",
       "<style scoped>\n",
       "    .dataframe tbody tr th:only-of-type {\n",
       "        vertical-align: middle;\n",
       "    }\n",
       "\n",
       "    .dataframe tbody tr th {\n",
       "        vertical-align: top;\n",
       "    }\n",
       "\n",
       "    .dataframe thead th {\n",
       "        text-align: right;\n",
       "    }\n",
       "</style>\n",
       "<table border=\"1\" class=\"dataframe\">\n",
       "  <thead>\n",
       "    <tr style=\"text-align: right;\">\n",
       "      <th></th>\n",
       "      <th>level_0</th>\n",
       "      <th>index</th>\n",
       "      <th>symbol</th>\n",
       "      <th>price2021-01-17</th>\n",
       "      <th>price2020-06-01</th>\n",
       "      <th>price_change</th>\n",
       "      <th>compare_to_btc</th>\n",
       "      <th>btc</th>\n",
       "    </tr>\n",
       "  </thead>\n",
       "  <tbody>\n",
       "    <tr>\n",
       "      <th>0</th>\n",
       "      <td>0</td>\n",
       "      <td>1</td>\n",
       "      <td>BNBUSDT</td>\n",
       "      <td>41.90970</td>\n",
       "      <td>18.20000</td>\n",
       "      <td>130.273077</td>\n",
       "      <td>-84.96</td>\n",
       "      <td>0.540645</td>\n",
       "    </tr>\n",
       "    <tr>\n",
       "      <th>1</th>\n",
       "      <td>1</td>\n",
       "      <td>2</td>\n",
       "      <td>NEOUSDT</td>\n",
       "      <td>22.89900</td>\n",
       "      <td>13.20000</td>\n",
       "      <td>73.477273</td>\n",
       "      <td>-227.94</td>\n",
       "      <td>0.304937</td>\n",
       "    </tr>\n",
       "    <tr>\n",
       "      <th>2</th>\n",
       "      <td>2</td>\n",
       "      <td>3</td>\n",
       "      <td>LTCUSDT</td>\n",
       "      <td>141.20000</td>\n",
       "      <td>49.96000</td>\n",
       "      <td>182.626101</td>\n",
       "      <td>-31.94</td>\n",
       "      <td>0.757915</td>\n",
       "    </tr>\n",
       "    <tr>\n",
       "      <th>3</th>\n",
       "      <td>3</td>\n",
       "      <td>4</td>\n",
       "      <td>QTUMUSDT</td>\n",
       "      <td>2.97000</td>\n",
       "      <td>1.92400</td>\n",
       "      <td>54.365904</td>\n",
       "      <td>-343.22</td>\n",
       "      <td>0.225623</td>\n",
       "    </tr>\n",
       "    <tr>\n",
       "      <th>4</th>\n",
       "      <td>4</td>\n",
       "      <td>5</td>\n",
       "      <td>ADAUSDT</td>\n",
       "      <td>0.36565</td>\n",
       "      <td>0.09039</td>\n",
       "      <td>304.524837</td>\n",
       "      <td>20.87</td>\n",
       "      <td>1.263806</td>\n",
       "    </tr>\n",
       "  </tbody>\n",
       "</table>\n",
       "</div>"
      ],
      "text/plain": [
       "   level_0  index    symbol  price2021-01-17  price2020-06-01  price_change  \\\n",
       "0        0      1   BNBUSDT         41.90970         18.20000    130.273077   \n",
       "1        1      2   NEOUSDT         22.89900         13.20000     73.477273   \n",
       "2        2      3   LTCUSDT        141.20000         49.96000    182.626101   \n",
       "3        3      4  QTUMUSDT          2.97000          1.92400     54.365904   \n",
       "4        4      5   ADAUSDT          0.36565          0.09039    304.524837   \n",
       "\n",
       "   compare_to_btc       btc  \n",
       "0          -84.96  0.540645  \n",
       "1         -227.94  0.304937  \n",
       "2          -31.94  0.757915  \n",
       "3         -343.22  0.225623  \n",
       "4           20.87  1.263806  "
      ]
     },
     "execution_count": 46,
     "metadata": {},
     "output_type": "execute_result"
    }
   ],
   "source": [
    "dfuu.head(5)"
   ]
  },
  {
   "cell_type": "code",
   "execution_count": 33,
   "metadata": {},
   "outputs": [
    {
     "data": {
      "text/plain": [
       "<AxesSubplot:xlabel='compare_to_btc', ylabel='price_change'>"
      ]
     },
     "execution_count": 33,
     "metadata": {},
     "output_type": "execute_result"
    },
    {
     "data": {
      "image/png": "[encoded data removed]",
      "text/plain": [
       "<Figure size 432x288 with 1 Axes>"
      ]
     },
     "metadata": {
      "needs_background": "light"
     },
     "output_type": "display_data"
    }
   ],
   "source": [
    "sns.scatterplot(y = dfuu.price_change, x = dfuu.compare_to_btc)"
   ]
  },
  {
   "cell_type": "code",
   "execution_count": 47,
   "metadata": {},
   "outputs": [
    {
     "name": "stderr",
     "output_type": "stream",
     "text": [
      "<ipython-input-47-1e1c89a2ed7a>:1: SettingWithCopyWarning: \n",
      "A value is trying to be set on a copy of a slice from a DataFrame.\n",
      "Try using .loc[row_indexer,col_indexer] = value instead\n",
      "\n",
      "See the caveats in the documentation: https://pandas.pydata.org/pandas-docs/stable/user_guide/indexing.html#returning-a-view-versus-a-copy\n",
      "  dfuu['btc'] = dfuu['price_change']/240.958574\n"
     ]
    },
    {
     "data": {
      "text/html": [
       "<div>\n",
       "<style scoped>\n",
       "    .dataframe tbody tr th:only-of-type {\n",
       "        vertical-align: middle;\n",
       "    }\n",
       "\n",
       "    .dataframe tbody tr th {\n",
       "        vertical-align: top;\n",
       "    }\n",
       "\n",
       "    .dataframe thead th {\n",
       "        text-align: right;\n",
       "    }\n",
       "</style>\n",
       "<table border=\"1\" class=\"dataframe\">\n",
       "  <thead>\n",
       "    <tr style=\"text-align: right;\">\n",
       "      <th></th>\n",
       "      <th>level_0</th>\n",
       "      <th>index</th>\n",
       "      <th>symbol</th>\n",
       "      <th>price2021-01-17</th>\n",
       "      <th>price2020-06-01</th>\n",
       "      <th>price_change</th>\n",
       "      <th>compare_to_btc</th>\n",
       "      <th>btc</th>\n",
       "    </tr>\n",
       "  </thead>\n",
       "  <tbody>\n",
       "    <tr>\n",
       "      <th>0</th>\n",
       "      <td>0</td>\n",
       "      <td>1</td>\n",
       "      <td>BNBUSDT</td>\n",
       "      <td>41.90970</td>\n",
       "      <td>18.20000</td>\n",
       "      <td>130.273077</td>\n",
       "      <td>-84.96</td>\n",
       "      <td>0.540645</td>\n",
       "    </tr>\n",
       "    <tr>\n",
       "      <th>1</th>\n",
       "      <td>1</td>\n",
       "      <td>2</td>\n",
       "      <td>NEOUSDT</td>\n",
       "      <td>22.89900</td>\n",
       "      <td>13.20000</td>\n",
       "      <td>73.477273</td>\n",
       "      <td>-227.94</td>\n",
       "      <td>0.304937</td>\n",
       "    </tr>\n",
       "    <tr>\n",
       "      <th>2</th>\n",
       "      <td>2</td>\n",
       "      <td>3</td>\n",
       "      <td>LTCUSDT</td>\n",
       "      <td>141.20000</td>\n",
       "      <td>49.96000</td>\n",
       "      <td>182.626101</td>\n",
       "      <td>-31.94</td>\n",
       "      <td>0.757915</td>\n",
       "    </tr>\n",
       "    <tr>\n",
       "      <th>3</th>\n",
       "      <td>3</td>\n",
       "      <td>4</td>\n",
       "      <td>QTUMUSDT</td>\n",
       "      <td>2.97000</td>\n",
       "      <td>1.92400</td>\n",
       "      <td>54.365904</td>\n",
       "      <td>-343.22</td>\n",
       "      <td>0.225623</td>\n",
       "    </tr>\n",
       "    <tr>\n",
       "      <th>4</th>\n",
       "      <td>4</td>\n",
       "      <td>5</td>\n",
       "      <td>ADAUSDT</td>\n",
       "      <td>0.36565</td>\n",
       "      <td>0.09039</td>\n",
       "      <td>304.524837</td>\n",
       "      <td>20.87</td>\n",
       "      <td>1.263806</td>\n",
       "    </tr>\n",
       "  </tbody>\n",
       "</table>\n",
       "</div>"
      ],
      "text/plain": [
       "   level_0  index    symbol  price2021-01-17  price2020-06-01  price_change  \\\n",
       "0        0      1   BNBUSDT         41.90970         18.20000    130.273077   \n",
       "1        1      2   NEOUSDT         22.89900         13.20000     73.477273   \n",
       "2        2      3   LTCUSDT        141.20000         49.96000    182.626101   \n",
       "3        3      4  QTUMUSDT          2.97000          1.92400     54.365904   \n",
       "4        4      5   ADAUSDT          0.36565          0.09039    304.524837   \n",
       "\n",
       "   compare_to_btc       btc  \n",
       "0          -84.96  0.540645  \n",
       "1         -227.94  0.304937  \n",
       "2          -31.94  0.757915  \n",
       "3         -343.22  0.225623  \n",
       "4           20.87  1.263806  "
      ]
     },
     "execution_count": 47,
     "metadata": {},
     "output_type": "execute_result"
    }
   ],
   "source": [
    "dfuu['btc'] = dfuu['price_change']/240.958574\n",
    "dfuu.head(5)"
   ]
  },
  {
   "cell_type": "code",
   "execution_count": 53,
   "metadata": {},
   "outputs": [],
   "source": [
    "dfuu.to_csv(f'datasets_cleaned/{price_name_now}_under350.csv')"
   ]
  },
  {
   "cell_type": "code",
   "execution_count": null,
   "metadata": {},
   "outputs": [],
   "source": []
  },
  {
   "cell_type": "code",
   "execution_count": null,
   "metadata": {},
   "outputs": [],
   "source": []
  },
  {
   "cell_type": "code",
   "execution_count": null,
   "metadata": {},
   "outputs": [],
   "source": []
  },
  {
   "cell_type": "code",
   "execution_count": null,
   "metadata": {},
   "outputs": [],
   "source": []
  },
  {
   "cell_type": "code",
   "execution_count": 36,
   "metadata": {},
   "outputs": [
    {
     "data": {
      "text/plain": [
       "<AxesSubplot:xlabel='btc', ylabel='btc'>"
      ]
     },
     "execution_count": 36,
     "metadata": {},
     "output_type": "execute_result"
    },
    {
     "data": {
      "image/png": "[encoded data removed]",
      "text/plain": [
       "<Figure size 432x288 with 1 Axes>"
      ]
     },
     "metadata": {
      "needs_background": "light"
     },
     "output_type": "display_data"
    }
   ],
   "source": [
    "sns.scatterplot(y = dfuu.btc, x = dfuu.btc)"
   ]
  },
  {
   "cell_type": "code",
   "execution_count": 37,
   "metadata": {},
   "outputs": [
    {
     "name": "stderr",
     "output_type": "stream",
     "text": [
      "/home/uru/anaconda3/envs/trading/lib/python3.9/site-packages/seaborn/distributions.py:2557: FutureWarning: `distplot` is a deprecated function and will be removed in a future version. Please adapt your code to use either `displot` (a figure-level function with similar flexibility) or `histplot` (an axes-level function for histograms).\n",
      "  warnings.warn(msg, FutureWarning)\n"
     ]
    },
    {
     "data": {
      "text/plain": [
       "<AxesSubplot:xlabel='btc'>"
      ]
     },
     "execution_count": 37,
     "metadata": {},
     "output_type": "execute_result"
    },
    {
     "data": {
      "image/png": "[encoded data removed]",
      "text/plain": [
       "<Figure size 432x288 with 1 Axes>"
      ]
     },
     "metadata": {
      "needs_background": "light"
     },
     "output_type": "display_data"
    }
   ],
   "source": [
    "sns.distplot(dfuu['btc'], kde=False)"
   ]
  },
  {
   "cell_type": "code",
   "execution_count": 38,
   "metadata": {},
   "outputs": [
    {
     "data": {
      "text/plain": [
       "<AxesSubplot:xlabel='price_change'>"
      ]
     },
     "execution_count": 38,
     "metadata": {},
     "output_type": "execute_result"
    },
    {
     "data": {
      "image/png": "[encoded data removed]",
      "text/plain": [
       "<Figure size 432x288 with 1 Axes>"
      ]
     },
     "metadata": {
      "needs_background": "light"
     },
     "output_type": "display_data"
    }
   ],
   "source": [
    "sns.distplot(dfu350.price_change, kde=False, color='b')"
   ]
  },
  {
   "cell_type": "markdown",
   "metadata": {},
   "source": [
    "## Currencies that grew over 4.5 times"
   ]
  },
  {
   "cell_type": "code",
   "execution_count": 39,
   "metadata": {},
   "outputs": [
    {
     "data": {
      "text/html": [
       "<div>\n",
       "<style scoped>\n",
       "    .dataframe tbody tr th:only-of-type {\n",
       "        vertical-align: middle;\n",
       "    }\n",
       "\n",
       "    .dataframe tbody tr th {\n",
       "        vertical-align: top;\n",
       "    }\n",
       "\n",
       "    .dataframe thead th {\n",
       "        text-align: right;\n",
       "    }\n",
       "</style>\n",
       "<table border=\"1\" class=\"dataframe\">\n",
       "  <thead>\n",
       "    <tr style=\"text-align: right;\">\n",
       "      <th></th>\n",
       "      <th>price2021-01-17</th>\n",
       "      <th>price2020-06-01</th>\n",
       "      <th>price_change</th>\n",
       "      <th>compare_to_btc</th>\n",
       "    </tr>\n",
       "  </thead>\n",
       "  <tbody>\n",
       "    <tr>\n",
       "      <th>count</th>\n",
       "      <td>12.000000</td>\n",
       "      <td>12.000000</td>\n",
       "      <td>12.000000</td>\n",
       "      <td>12.000000</td>\n",
       "    </tr>\n",
       "    <tr>\n",
       "      <th>mean</th>\n",
       "      <td>2926.646480</td>\n",
       "      <td>623.466128</td>\n",
       "      <td>503.484173</td>\n",
       "      <td>48.683333</td>\n",
       "    </tr>\n",
       "    <tr>\n",
       "      <th>std</th>\n",
       "      <td>9695.804786</td>\n",
       "      <td>2072.015907</td>\n",
       "      <td>149.100294</td>\n",
       "      <td>13.199801</td>\n",
       "    </tr>\n",
       "    <tr>\n",
       "      <th>min</th>\n",
       "      <td>0.019710</td>\n",
       "      <td>0.003016</td>\n",
       "      <td>350.941730</td>\n",
       "      <td>31.340000</td>\n",
       "    </tr>\n",
       "    <tr>\n",
       "      <th>25%</th>\n",
       "      <td>0.582140</td>\n",
       "      <td>0.091625</td>\n",
       "      <td>379.897130</td>\n",
       "      <td>36.572500</td>\n",
       "    </tr>\n",
       "    <tr>\n",
       "      <th>50%</th>\n",
       "      <td>8.093400</td>\n",
       "      <td>1.578400</td>\n",
       "      <td>481.983891</td>\n",
       "      <td>49.785000</td>\n",
       "    </tr>\n",
       "    <tr>\n",
       "      <th>75%</th>\n",
       "      <td>86.357000</td>\n",
       "      <td>10.552500</td>\n",
       "      <td>575.733389</td>\n",
       "      <td>58.070000</td>\n",
       "    </tr>\n",
       "    <tr>\n",
       "      <th>max</th>\n",
       "      <td>33695.690000</td>\n",
       "      <td>7199.000000</td>\n",
       "      <td>853.017578</td>\n",
       "      <td>71.750000</td>\n",
       "    </tr>\n",
       "  </tbody>\n",
       "</table>\n",
       "</div>"
      ],
      "text/plain": [
       "       price2021-01-17  price2020-06-01  price_change  compare_to_btc\n",
       "count        12.000000        12.000000     12.000000       12.000000\n",
       "mean       2926.646480       623.466128    503.484173       48.683333\n",
       "std        9695.804786      2072.015907    149.100294       13.199801\n",
       "min           0.019710         0.003016    350.941730       31.340000\n",
       "25%           0.582140         0.091625    379.897130       36.572500\n",
       "50%           8.093400         1.578400    481.983891       49.785000\n",
       "75%          86.357000        10.552500    575.733389       58.070000\n",
       "max       33695.690000      7199.000000    853.017578       71.750000"
      ]
     },
     "execution_count": 39,
     "metadata": {},
     "output_type": "execute_result"
    }
   ],
   "source": [
    "dfa350.describe()"
   ]
  },
  {
   "cell_type": "code",
   "execution_count": 40,
   "metadata": {},
   "outputs": [
    {
     "name": "stderr",
     "output_type": "stream",
     "text": [
      "/home/uru/anaconda3/envs/trading/lib/python3.9/site-packages/pandas/core/frame.py:4305: SettingWithCopyWarning: \n",
      "A value is trying to be set on a copy of a slice from a DataFrame\n",
      "\n",
      "See the caveats in the documentation: https://pandas.pydata.org/pandas-docs/stable/user_guide/indexing.html#returning-a-view-versus-a-copy\n",
      "  return super().drop(\n"
     ]
    }
   ],
   "source": [
    "dfa350.drop(labels=[76,85],inplace=True)"
   ]
  },
  {
   "cell_type": "code",
   "execution_count": 54,
   "metadata": {},
   "outputs": [],
   "source": [
    "dfa350.to_csv(f'datasets_cleaned/{price_name_now}_above350.csv')"
   ]
  },
  {
   "cell_type": "code",
   "execution_count": 42,
   "metadata": {},
   "outputs": [
    {
     "data": {
      "text/html": [
       "<div>\n",
       "<style scoped>\n",
       "    .dataframe tbody tr th:only-of-type {\n",
       "        vertical-align: middle;\n",
       "    }\n",
       "\n",
       "    .dataframe tbody tr th {\n",
       "        vertical-align: top;\n",
       "    }\n",
       "\n",
       "    .dataframe thead th {\n",
       "        text-align: right;\n",
       "    }\n",
       "</style>\n",
       "<table border=\"1\" class=\"dataframe\">\n",
       "  <thead>\n",
       "    <tr style=\"text-align: right;\">\n",
       "      <th></th>\n",
       "      <th>index</th>\n",
       "      <th>symbol</th>\n",
       "      <th>price2021-01-17</th>\n",
       "      <th>price2020-06-01</th>\n",
       "      <th>price_change</th>\n",
       "      <th>compare_to_btc</th>\n",
       "      <th>btc</th>\n",
       "    </tr>\n",
       "  </thead>\n",
       "  <tbody>\n",
       "    <tr>\n",
       "      <th>0</th>\n",
       "      <td>1</td>\n",
       "      <td>BNBUSDT</td>\n",
       "      <td>41.90970</td>\n",
       "      <td>18.20000</td>\n",
       "      <td>130.273077</td>\n",
       "      <td>-84.96</td>\n",
       "      <td>0.540645</td>\n",
       "    </tr>\n",
       "    <tr>\n",
       "      <th>1</th>\n",
       "      <td>2</td>\n",
       "      <td>NEOUSDT</td>\n",
       "      <td>22.89900</td>\n",
       "      <td>13.20000</td>\n",
       "      <td>73.477273</td>\n",
       "      <td>-227.94</td>\n",
       "      <td>0.304937</td>\n",
       "    </tr>\n",
       "    <tr>\n",
       "      <th>2</th>\n",
       "      <td>3</td>\n",
       "      <td>LTCUSDT</td>\n",
       "      <td>141.20000</td>\n",
       "      <td>49.96000</td>\n",
       "      <td>182.626101</td>\n",
       "      <td>-31.94</td>\n",
       "      <td>0.757915</td>\n",
       "    </tr>\n",
       "    <tr>\n",
       "      <th>3</th>\n",
       "      <td>4</td>\n",
       "      <td>QTUMUSDT</td>\n",
       "      <td>2.97000</td>\n",
       "      <td>1.92400</td>\n",
       "      <td>54.365904</td>\n",
       "      <td>-343.22</td>\n",
       "      <td>0.225623</td>\n",
       "    </tr>\n",
       "    <tr>\n",
       "      <th>4</th>\n",
       "      <td>5</td>\n",
       "      <td>ADAUSDT</td>\n",
       "      <td>0.36565</td>\n",
       "      <td>0.09039</td>\n",
       "      <td>304.524837</td>\n",
       "      <td>20.87</td>\n",
       "      <td>1.263806</td>\n",
       "    </tr>\n",
       "    <tr>\n",
       "      <th>5</th>\n",
       "      <td>6</td>\n",
       "      <td>XRPUSDT</td>\n",
       "      <td>0.27344</td>\n",
       "      <td>0.21470</td>\n",
       "      <td>27.359106</td>\n",
       "      <td>-780.73</td>\n",
       "      <td>0.113543</td>\n",
       "    </tr>\n",
       "    <tr>\n",
       "      <th>6</th>\n",
       "      <td>7</td>\n",
       "      <td>IOTAUSDT</td>\n",
       "      <td>0.41200</td>\n",
       "      <td>0.25850</td>\n",
       "      <td>59.381044</td>\n",
       "      <td>-305.78</td>\n",
       "      <td>0.246437</td>\n",
       "    </tr>\n",
       "    <tr>\n",
       "      <th>7</th>\n",
       "      <td>8</td>\n",
       "      <td>XLMUSDT</td>\n",
       "      <td>0.29750</td>\n",
       "      <td>0.08631</td>\n",
       "      <td>244.687753</td>\n",
       "      <td>1.52</td>\n",
       "      <td>1.015476</td>\n",
       "    </tr>\n",
       "    <tr>\n",
       "      <th>8</th>\n",
       "      <td>9</td>\n",
       "      <td>TRXUSDT</td>\n",
       "      <td>0.02974</td>\n",
       "      <td>0.01824</td>\n",
       "      <td>63.048246</td>\n",
       "      <td>-282.18</td>\n",
       "      <td>0.261656</td>\n",
       "    </tr>\n",
       "    <tr>\n",
       "      <th>9</th>\n",
       "      <td>10</td>\n",
       "      <td>ETCUSDT</td>\n",
       "      <td>7.58280</td>\n",
       "      <td>7.31950</td>\n",
       "      <td>3.597240</td>\n",
       "      <td>-6598.43</td>\n",
       "      <td>0.014929</td>\n",
       "    </tr>\n",
       "  </tbody>\n",
       "</table>\n",
       "</div>"
      ],
      "text/plain": [
       "   index    symbol  price2021-01-17  price2020-06-01  price_change  \\\n",
       "0      1   BNBUSDT         41.90970         18.20000    130.273077   \n",
       "1      2   NEOUSDT         22.89900         13.20000     73.477273   \n",
       "2      3   LTCUSDT        141.20000         49.96000    182.626101   \n",
       "3      4  QTUMUSDT          2.97000          1.92400     54.365904   \n",
       "4      5   ADAUSDT          0.36565          0.09039    304.524837   \n",
       "5      6   XRPUSDT          0.27344          0.21470     27.359106   \n",
       "6      7  IOTAUSDT          0.41200          0.25850     59.381044   \n",
       "7      8   XLMUSDT          0.29750          0.08631    244.687753   \n",
       "8      9   TRXUSDT          0.02974          0.01824     63.048246   \n",
       "9     10   ETCUSDT          7.58280          7.31950      3.597240   \n",
       "\n",
       "   compare_to_btc       btc  \n",
       "0          -84.96  0.540645  \n",
       "1         -227.94  0.304937  \n",
       "2          -31.94  0.757915  \n",
       "3         -343.22  0.225623  \n",
       "4           20.87  1.263806  \n",
       "5         -780.73  0.113543  \n",
       "6         -305.78  0.246437  \n",
       "7            1.52  1.015476  \n",
       "8         -282.18  0.261656  \n",
       "9        -6598.43  0.014929  "
      ]
     },
     "execution_count": 42,
     "metadata": {},
     "output_type": "execute_result"
    }
   ],
   "source": [
    "## those below 350\n",
    "dfu350 = dfuu\n",
    "dfu350.head(10)"
   ]
  },
  {
   "cell_type": "code",
   "execution_count": 43,
   "metadata": {},
   "outputs": [
    {
     "data": {
      "text/html": [
       "<div>\n",
       "<style scoped>\n",
       "    .dataframe tbody tr th:only-of-type {\n",
       "        vertical-align: middle;\n",
       "    }\n",
       "\n",
       "    .dataframe tbody tr th {\n",
       "        vertical-align: top;\n",
       "    }\n",
       "\n",
       "    .dataframe thead th {\n",
       "        text-align: right;\n",
       "    }\n",
       "</style>\n",
       "<table border=\"1\" class=\"dataframe\">\n",
       "  <thead>\n",
       "    <tr style=\"text-align: right;\">\n",
       "      <th></th>\n",
       "      <th>symbol</th>\n",
       "      <th>price2021-01-17</th>\n",
       "      <th>price2020-06-01</th>\n",
       "      <th>price_change</th>\n",
       "      <th>compare_to_btc</th>\n",
       "    </tr>\n",
       "  </thead>\n",
       "  <tbody>\n",
       "    <tr>\n",
       "      <th>0</th>\n",
       "      <td>ETHUSDT</td>\n",
       "      <td>1209.05000</td>\n",
       "      <td>253.800000</td>\n",
       "      <td>376.379039</td>\n",
       "      <td>35.98</td>\n",
       "    </tr>\n",
       "    <tr>\n",
       "      <th>14</th>\n",
       "      <td>WAVESUSDT</td>\n",
       "      <td>6.55500</td>\n",
       "      <td>1.191800</td>\n",
       "      <td>450.008391</td>\n",
       "      <td>46.45</td>\n",
       "    </tr>\n",
       "    <tr>\n",
       "      <th>29</th>\n",
       "      <td>THETAUSDT</td>\n",
       "      <td>2.01700</td>\n",
       "      <td>0.305000</td>\n",
       "      <td>561.311475</td>\n",
       "      <td>57.07</td>\n",
       "    </tr>\n",
       "    <tr>\n",
       "      <th>39</th>\n",
       "      <td>ERDUSDT</td>\n",
       "      <td>0.01971</td>\n",
       "      <td>0.003016</td>\n",
       "      <td>553.514589</td>\n",
       "      <td>56.47</td>\n",
       "    </tr>\n",
       "    <tr>\n",
       "      <th>54</th>\n",
       "      <td>CVCUSDT</td>\n",
       "      <td>0.15019</td>\n",
       "      <td>0.031220</td>\n",
       "      <td>381.069827</td>\n",
       "      <td>36.77</td>\n",
       "    </tr>\n",
       "    <tr>\n",
       "      <th>56</th>\n",
       "      <td>BANDUSDT</td>\n",
       "      <td>9.63180</td>\n",
       "      <td>1.965000</td>\n",
       "      <td>390.167939</td>\n",
       "      <td>38.24</td>\n",
       "    </tr>\n",
       "    <tr>\n",
       "      <th>57</th>\n",
       "      <td>RENUSDT</td>\n",
       "      <td>0.60475</td>\n",
       "      <td>0.098500</td>\n",
       "      <td>513.959391</td>\n",
       "      <td>53.12</td>\n",
       "    </tr>\n",
       "    <tr>\n",
       "      <th>78</th>\n",
       "      <td>LENDUSDT</td>\n",
       "      <td>0.51431</td>\n",
       "      <td>0.071000</td>\n",
       "      <td>624.380282</td>\n",
       "      <td>61.41</td>\n",
       "    </tr>\n",
       "    <tr>\n",
       "      <th>84</th>\n",
       "      <td>SNXUSDT</td>\n",
       "      <td>15.32300</td>\n",
       "      <td>3.398000</td>\n",
       "      <td>350.941730</td>\n",
       "      <td>31.34</td>\n",
       "    </tr>\n",
       "    <tr>\n",
       "      <th>92</th>\n",
       "      <td>YFIUSDT</td>\n",
       "      <td>33695.69000</td>\n",
       "      <td>7199.000000</td>\n",
       "      <td>368.060703</td>\n",
       "      <td>34.53</td>\n",
       "    </tr>\n",
       "  </tbody>\n",
       "</table>\n",
       "</div>"
      ],
      "text/plain": [
       "       symbol  price2021-01-17  price2020-06-01  price_change  compare_to_btc\n",
       "0     ETHUSDT       1209.05000       253.800000    376.379039           35.98\n",
       "14  WAVESUSDT          6.55500         1.191800    450.008391           46.45\n",
       "29  THETAUSDT          2.01700         0.305000    561.311475           57.07\n",
       "39    ERDUSDT          0.01971         0.003016    553.514589           56.47\n",
       "54    CVCUSDT          0.15019         0.031220    381.069827           36.77\n",
       "56   BANDUSDT          9.63180         1.965000    390.167939           38.24\n",
       "57    RENUSDT          0.60475         0.098500    513.959391           53.12\n",
       "78   LENDUSDT          0.51431         0.071000    624.380282           61.41\n",
       "84    SNXUSDT         15.32300         3.398000    350.941730           31.34\n",
       "92    YFIUSDT      33695.69000      7199.000000    368.060703           34.53"
      ]
     },
     "execution_count": 43,
     "metadata": {},
     "output_type": "execute_result"
    }
   ],
   "source": [
    "## those above 350\n",
    "dfa350"
   ]
  },
  {
   "cell_type": "code",
   "execution_count": null,
   "metadata": {},
   "outputs": [],
   "source": []
  },
  {
   "cell_type": "code",
   "execution_count": null,
   "metadata": {},
   "outputs": [],
   "source": []
  },
  {
   "cell_type": "code",
   "execution_count": null,
   "metadata": {},
   "outputs": [],
   "source": []
  },
  {
   "cell_type": "code",
   "execution_count": null,
   "metadata": {},
   "outputs": [],
   "source": []
  },
  {
   "cell_type": "code",
   "execution_count": null,
   "metadata": {},
   "outputs": [],
   "source": []
  }
 ],
 "metadata": {
  "kernelspec": {
   "display_name": "Python 3",
   "language": "python",
   "name": "python3"
  },
  "language_info": {
   "codemirror_mode": {
    "name": "ipython",
    "version": 3
   },
   "file_extension": ".py",
   "mimetype": "text/x-python",
   "name": "python",
   "nbconvert_exporter": "python",
   "pygments_lexer": "ipython3",
   "version": "3.9.1"
  }
 },
 "nbformat": 4,
 "nbformat_minor": 4
}
